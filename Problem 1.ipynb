{
 "cells": [
  {
   "cell_type": "markdown",
   "metadata": {},
   "source": [
    "Project Euler - Problem #1\n",
    "<p>If we list all the natural numbers below 10 that are multiples of 3 or 5, we get 3, 5, 6 and 9. The sum of these multiples is 23.</p>\n",
    "<p>Find the sum of all the multiples of 3 or 5 below 1000.</p>\n",
    "\n",
    "https://projecteuler.net/problem=1\n"
   ]
  },
  {
   "cell_type": "code",
   "execution_count": 1,
   "metadata": {},
   "outputs": [],
   "source": [
    "import numpy as np"
   ]
  },
  {
   "cell_type": "code",
   "execution_count": 22,
   "metadata": {},
   "outputs": [
    {
     "name": "stdout",
     "output_type": "stream",
     "text": [
      "23\n"
     ]
    }
   ],
   "source": [
    "## CREATING A TEST SCRIPT FOR THE STATEMENT\n",
    "\n",
    "numlist = []\n",
    "\n",
    "for num in range(1,10):\n",
    "    \n",
    "    if num % 3 == 0 or num % 5 == 0:\n",
    "        numlist.append(num)\n",
    "    \n",
    "print(sum(numlist))"
   ]
  },
  {
   "cell_type": "code",
   "execution_count": 23,
   "metadata": {},
   "outputs": [
    {
     "name": "stdout",
     "output_type": "stream",
     "text": [
      "233168\n"
     ]
    }
   ],
   "source": [
    "## ADJUSTING FOR THE SOLUTION\n",
    "\n",
    "numlist = []\n",
    "\n",
    "for num in range(1,1000):\n",
    "    \n",
    "    if num % 3 == 0 or num % 5 == 0:\n",
    "        numlist.append(num)\n",
    "    \n",
    "print(sum(numlist))"
   ]
  },
  {
   "cell_type": "code",
   "execution_count": null,
   "metadata": {},
   "outputs": [],
   "source": []
  }
 ],
 "metadata": {
  "kernelspec": {
   "display_name": "Python 3",
   "language": "python",
   "name": "python3"
  },
  "language_info": {
   "codemirror_mode": {
    "name": "ipython",
    "version": 3
   },
   "file_extension": ".py",
   "mimetype": "text/x-python",
   "name": "python",
   "nbconvert_exporter": "python",
   "pygments_lexer": "ipython3",
   "version": "3.8.5"
  }
 },
 "nbformat": 4,
 "nbformat_minor": 4
}
